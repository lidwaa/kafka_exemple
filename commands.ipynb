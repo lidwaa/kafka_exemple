{
 "cells": [
  {
   "cell_type": "code",
   "execution_count": 1,
   "metadata": {},
   "outputs": [],
   "source": [
    "import subprocess\n",
    "import time"
   ]
  },
  {
   "cell_type": "markdown",
   "metadata": {},
   "source": [
    "# Paths to Kafka and ZooKeeper commands"
   ]
  },
  {
   "cell_type": "code",
   "execution_count": 2,
   "metadata": {},
   "outputs": [],
   "source": [
    "ZOOKEEPER_START_COMMAND = \"C:\\\\kafka\\\\bin\\\\windows\\\\zookeeper-server-start.bat C:\\\\kafka\\\\config\\\\zookeeper.properties\"\n",
    "KAFKA_START_COMMAND = \"C:\\\\kafka\\\\bin\\\\windows\\\\kafka-server-start.bat C:\\\\kafka\\\\config\\\\server.properties\"\n",
    "ZOOKEEPER_STOP_COMMAND = \"C:\\\\kafka\\\\bin\\\\windows\\\\zookeeper-server-stop.bat\"\n",
    "KAFKA_STOP_COMMAND = \"C:\\\\kafka\\\\bin\\\\windows\\\\kafka-server-stop.bat\""
   ]
  },
  {
   "cell_type": "markdown",
   "metadata": {},
   "source": [
    "# Function \"helpers\" to run Kafka commands"
   ]
  },
  {
   "cell_type": "code",
   "execution_count": 3,
   "metadata": {},
   "outputs": [],
   "source": [
    "def run_kafka_command(command):\n",
    "    \"\"\"\n",
    "    Run a Kafka command and return the output.\n",
    "    \"\"\"\n",
    "    try:\n",
    "        result = subprocess.run(command, stdout=subprocess.PIPE, stderr=subprocess.PIPE, text=True, shell=True)\n",
    "        if result.returncode != 0:\n",
    "            print(f\"Error: {result.stderr}\")\n",
    "        return result.stdout.strip()\n",
    "    except Exception as e:\n",
    "        print(f\"Exception: {e}\")\n",
    "        return None"
   ]
  },
  {
   "cell_type": "code",
   "execution_count": 4,
   "metadata": {},
   "outputs": [],
   "source": [
    "def start_process_in_new_terminal(command):\n",
    "    \"\"\"\n",
    "    Starts a process in a new terminal window.\n",
    "    \"\"\"\n",
    "    subprocess.Popen(f'start cmd /k {command}', shell=True)\n",
    "\n",
    "def stop_process(command):\n",
    "    \"\"\"\n",
    "    Stops a process by executing a stop script.\n",
    "    \"\"\"\n",
    "    print(f\"Stopping process with command: {command}\")\n",
    "    subprocess.run(command, shell=True)"
   ]
  },
  {
   "cell_type": "markdown",
   "metadata": {},
   "source": [
    "# --- Kafka and ZooKeeper Commands ---"
   ]
  },
  {
   "cell_type": "markdown",
   "metadata": {},
   "source": [
    "## 0. Functions to Start and Stop Kafka\n"
   ]
  },
  {
   "cell_type": "code",
   "execution_count": 5,
   "metadata": {},
   "outputs": [],
   "source": [
    "def start_kafka():\n",
    "    \"\"\"\n",
    "    Starts ZooKeeper and Kafka in separate terminals.\n",
    "    \"\"\"\n",
    "    print(\"Starting ZooKeeper...\")\n",
    "    start_process_in_new_terminal(ZOOKEEPER_START_COMMAND)\n",
    "    print(\"Waiting 10 seconds for ZooKeeper to start...\")\n",
    "    time.sleep(10)\n",
    "    \n",
    "    print(\"Starting Kafka...\")\n",
    "    start_process_in_new_terminal(KAFKA_START_COMMAND)\n",
    "    print(\"ZooKeeper and Kafka are now running in separate terminals.\")"
   ]
  },
  {
   "cell_type": "code",
   "execution_count": 6,
   "metadata": {},
   "outputs": [],
   "source": [
    "def stop_kafka():\n",
    "    \"\"\"\n",
    "    Stops Kafka and ZooKeeper properly.\n",
    "    \"\"\"\n",
    "    print(\"Stopping Kafka...\")\n",
    "    stop_process(KAFKA_STOP_COMMAND)\n",
    "    print(\"Waiting 10 seconds for Kafak to stop...\")\n",
    "    time.sleep(10)\n",
    "    print(\"Stopping ZooKeeper...\")\n",
    "    stop_process(ZOOKEEPER_STOP_COMMAND)\n",
    "    print(\"Kafka and ZooKeeper have been stopped.\")"
   ]
  },
  {
   "cell_type": "markdown",
   "metadata": {},
   "source": [
    "## 1. List all Kafka topics"
   ]
  },
  {
   "cell_type": "code",
   "execution_count": 7,
   "metadata": {},
   "outputs": [],
   "source": [
    "def list_topics():\n",
    "    \"\"\"\n",
    "    Lists all Kafka topics.\n",
    "    \"\"\"\n",
    "    # command = \"kafka-topics.bat --bootstrap-server localhost:9092 --list\"\n",
    "    command = \"kafka-topics.bat --bootstrap-server 192.168.0.61:9092 --list\"\n",
    "    \n",
    "    print(\"Listing topics...\")\n",
    "    output = run_kafka_command(command)\n",
    "    print(output or \"No topics found.\")"
   ]
  },
  {
   "cell_type": "markdown",
   "metadata": {},
   "source": [
    "## 2. Delete a topic"
   ]
  },
  {
   "cell_type": "code",
   "execution_count": 8,
   "metadata": {},
   "outputs": [],
   "source": [
    "def delete_topic(topic_name):\n",
    "    \"\"\"\n",
    "    Deletes a Kafka topic.\n",
    "    \"\"\"\n",
    "    command = f\"kafka-topics.bat --bootstrap-server 192.168.0.61:9092 --delete --topic {topic_name}\"\n",
    "    print(f\"Deleting topic: {topic_name}...\")\n",
    "    output = run_kafka_command(command)\n",
    "    print(output or f\"Topic '{topic_name}' deleted successfully.\")"
   ]
  },
  {
   "cell_type": "markdown",
   "metadata": {},
   "source": [
    "## 3. Create a topic"
   ]
  },
  {
   "cell_type": "code",
   "execution_count": 9,
   "metadata": {},
   "outputs": [],
   "source": [
    "def create_topic(topic_name, partitions=1, replication_factor=1):\n",
    "    \"\"\"\n",
    "    Creates a Kafka topic.\n",
    "    \"\"\"\n",
    "    command = (\n",
    "        f\"kafka-topics.bat --bootstrap-server 192.168.0.61:9092 --create --topic {topic_name} \"\n",
    "        f\"--partitions {partitions} --replication-factor {replication_factor}\"\n",
    "    )\n",
    "    print(f\"Creating topic: {topic_name}...\")\n",
    "    output = run_kafka_command(command)\n",
    "    print(output or f\"Topic '{topic_name}' created successfully.\")"
   ]
  },
  {
   "cell_type": "markdown",
   "metadata": {},
   "source": [
    "## 4. Set retention time for a topic"
   ]
  },
  {
   "cell_type": "code",
   "execution_count": 10,
   "metadata": {},
   "outputs": [],
   "source": [
    "def set_retention(topic_name, retention_ms):\n",
    "    \"\"\"\n",
    "    Sets the retention time for a Kafka topic.\n",
    "    \"\"\"\n",
    "    command = (\n",
    "        f\"kafka-configs.bat --bootstrap-server 192.168.0.61:9092 --alter --entity-type topics \"\n",
    "        f\"--entity-name {topic_name} --add-config retention.ms={retention_ms}\"\n",
    "    )\n",
    "    print(f\"Setting retention.ms={retention_ms} for topic: {topic_name}...\")\n",
    "    output = run_kafka_command(command)\n",
    "    print(output or f\"Retention set for topic '{topic_name}'.\")"
   ]
  },
  {
   "cell_type": "markdown",
   "metadata": {},
   "source": [
    "## 5. Describe topic configuration"
   ]
  },
  {
   "cell_type": "code",
   "execution_count": 11,
   "metadata": {},
   "outputs": [],
   "source": [
    "def describe_topic(topic_name):\n",
    "    \"\"\"\n",
    "    Describes a Kafka topic's configuration.\n",
    "    \"\"\"\n",
    "    command = (\n",
    "        f\"kafka-configs.bat --bootstrap-server 192.168.0.61:9092 --describe --entity-type topics \"\n",
    "        f\"--entity-name {topic_name}\"\n",
    "    )\n",
    "    print(f\"Describing topic: {topic_name}...\")\n",
    "    output = run_kafka_command(command)\n",
    "    print(output or f\"No configuration found for topic '{topic_name}'.\")"
   ]
  },
  {
   "cell_type": "markdown",
   "metadata": {},
   "source": [
    "## 6. Consumme messages from a topic"
   ]
  },
  {
   "cell_type": "code",
   "execution_count": 12,
   "metadata": {},
   "outputs": [],
   "source": [
    "def consume_messages(topic_name, group_id):\n",
    "    \"\"\"\n",
    "    Consumes messages from a Kafka topic using the Kafka CLI tools.\n",
    "    \"\"\"\n",
    "    command = (\n",
    "        f\"kafka-console-consumer.bat --bootstrap-server 192.168.0.61:9092 \"\n",
    "        f\"--topic {topic_name}  --from-beginning\"\n",
    "    )\n",
    "    print(f\"Consuming messages from topic '{topic_name}' with group ID '{group_id}'...\")\n",
    "    try:\n",
    "        # Use run_kafka_command to execute the command and handle output\n",
    "        output = run_kafka_command(command)\n",
    "        if output:\n",
    "            print(f\"Messages consumed:\\n{output}\")\n",
    "        else:\n",
    "            print(\"No messages consumed or an error occurred.\")\n",
    "    except Exception as e:\n",
    "        print(f\"Exception while consuming messages: {e}\")\n"
   ]
  },
  {
   "cell_type": "markdown",
   "metadata": {},
   "source": [
    "# --- Example Usage ---"
   ]
  },
  {
   "cell_type": "code",
   "execution_count": null,
   "metadata": {},
   "outputs": [
    {
     "name": "stdout",
     "output_type": "stream",
     "text": [
      "\n",
      "--- Kafka and ZooKeeper Management ---\n",
      "[1] Start Kafka and ZooKeeper\n",
      "[2] Stop Kafka and ZooKeeper\n",
      "[3] List Kafka Topics\n",
      "[4] Create a Kafka Topic\n",
      "[5] Delete a Kafka Topic\n",
      "[6] Set Retention for a Topic\n",
      "[7] Describe a Topic\n",
      "[8] Consume Messages from a Topic\n",
      "[9] Quit\n",
      "Starting ZooKeeper...\n",
      "Waiting 10 seconds for ZooKeeper to start...\n",
      "Starting Kafka...\n",
      "ZooKeeper and Kafka are now running in separate terminals.\n",
      "\n",
      "--- Kafka and ZooKeeper Management ---\n",
      "[1] Start Kafka and ZooKeeper\n",
      "[2] Stop Kafka and ZooKeeper\n",
      "[3] List Kafka Topics\n",
      "[4] Create a Kafka Topic\n",
      "[5] Delete a Kafka Topic\n",
      "[6] Set Retention for a Topic\n",
      "[7] Describe a Topic\n",
      "[8] Consume Messages from a Topic\n",
      "[9] Quit\n",
      "Starting ZooKeeper...\n",
      "Waiting 10 seconds for ZooKeeper to start...\n",
      "Starting Kafka...\n",
      "ZooKeeper and Kafka are now running in separate terminals.\n",
      "\n",
      "--- Kafka and ZooKeeper Management ---\n",
      "[1] Start Kafka and ZooKeeper\n",
      "[2] Stop Kafka and ZooKeeper\n",
      "[3] List Kafka Topics\n",
      "[4] Create a Kafka Topic\n",
      "[5] Delete a Kafka Topic\n",
      "[6] Set Retention for a Topic\n",
      "[7] Describe a Topic\n",
      "[8] Consume Messages from a Topic\n",
      "[9] Quit\n",
      "Invalid option. Try again.\n",
      "\n",
      "--- Kafka and ZooKeeper Management ---\n",
      "[1] Start Kafka and ZooKeeper\n",
      "[2] Stop Kafka and ZooKeeper\n",
      "[3] List Kafka Topics\n",
      "[4] Create a Kafka Topic\n",
      "[5] Delete a Kafka Topic\n",
      "[6] Set Retention for a Topic\n",
      "[7] Describe a Topic\n",
      "[8] Consume Messages from a Topic\n",
      "[9] Quit\n",
      "Starting ZooKeeper...\n",
      "Waiting 10 seconds for ZooKeeper to start...\n",
      "Starting Kafka...\n",
      "ZooKeeper and Kafka are now running in separate terminals.\n",
      "\n",
      "--- Kafka and ZooKeeper Management ---\n",
      "[1] Start Kafka and ZooKeeper\n",
      "[2] Stop Kafka and ZooKeeper\n",
      "[3] List Kafka Topics\n",
      "[4] Create a Kafka Topic\n",
      "[5] Delete a Kafka Topic\n",
      "[6] Set Retention for a Topic\n",
      "[7] Describe a Topic\n",
      "[8] Consume Messages from a Topic\n",
      "[9] Quit\n",
      "Stopping Kafka...\n",
      "Stopping process with command: C:\\kafka\\bin\\windows\\kafka-server-stop.bat\n",
      "Waiting 10 seconds for Kafak to stop...\n",
      "Stopping ZooKeeper...\n",
      "Stopping process with command: C:\\kafka\\bin\\windows\\zookeeper-server-stop.bat\n",
      "Kafka and ZooKeeper have been stopped.\n",
      "\n",
      "--- Kafka and ZooKeeper Management ---\n",
      "[1] Start Kafka and ZooKeeper\n",
      "[2] Stop Kafka and ZooKeeper\n",
      "[3] List Kafka Topics\n",
      "[4] Create a Kafka Topic\n",
      "[5] Delete a Kafka Topic\n",
      "[6] Set Retention for a Topic\n",
      "[7] Describe a Topic\n",
      "[8] Consume Messages from a Topic\n",
      "[9] Quit\n",
      "Starting ZooKeeper...\n",
      "Waiting 10 seconds for ZooKeeper to start...\n",
      "Starting Kafka...\n",
      "ZooKeeper and Kafka are now running in separate terminals.\n",
      "\n",
      "--- Kafka and ZooKeeper Management ---\n",
      "[1] Start Kafka and ZooKeeper\n",
      "[2] Stop Kafka and ZooKeeper\n",
      "[3] List Kafka Topics\n",
      "[4] Create a Kafka Topic\n",
      "[5] Delete a Kafka Topic\n",
      "[6] Set Retention for a Topic\n",
      "[7] Describe a Topic\n",
      "[8] Consume Messages from a Topic\n",
      "[9] Quit\n",
      "Starting ZooKeeper...\n",
      "Waiting 10 seconds for ZooKeeper to start...\n",
      "Starting Kafka...\n",
      "ZooKeeper and Kafka are now running in separate terminals.\n",
      "\n",
      "--- Kafka and ZooKeeper Management ---\n",
      "[1] Start Kafka and ZooKeeper\n",
      "[2] Stop Kafka and ZooKeeper\n",
      "[3] List Kafka Topics\n",
      "[4] Create a Kafka Topic\n",
      "[5] Delete a Kafka Topic\n",
      "[6] Set Retention for a Topic\n",
      "[7] Describe a Topic\n",
      "[8] Consume Messages from a Topic\n",
      "[9] Quit\n"
     ]
    }
   ],
   "source": [
    "if __name__ == \"__main__\":\n",
    "    while True:\n",
    "        print(\"\\n--- Kafka and ZooKeeper Management ---\")\n",
    "        print(\"[1] Start Kafka and ZooKeeper\")\n",
    "        print(\"[2] Stop Kafka and ZooKeeper\")\n",
    "        print(\"[3] List Kafka Topics\")\n",
    "        print(\"[4] Create a Kafka Topic\")\n",
    "        print(\"[5] Delete a Kafka Topic\")\n",
    "        print(\"[6] Set Retention for a Topic\")\n",
    "        print(\"[7] Describe a Topic\")\n",
    "        print(\"[8] Consume Messages from a Topic\")\n",
    "        print(\"[9] Quit\")\n",
    "        \n",
    "        choice = input(\"Choose an option: \")\n",
    "        \n",
    "        if choice == \"1\":\n",
    "            start_kafka()\n",
    "        elif choice == \"2\":\n",
    "            stop_kafka()\n",
    "        elif choice == \"3\":\n",
    "            list_topics()\n",
    "        elif choice == \"4\":\n",
    "            topic = input(\"Enter topic name to create: \")\n",
    "            create_topic(topic)\n",
    "        elif choice == \"5\":\n",
    "            topic = input(\"Enter topic name to delete: \")\n",
    "            delete_topic(topic)\n",
    "        elif choice == \"6\":\n",
    "            topic = input(\"Enter topic name: \")\n",
    "            retention = input(\"Enter retention time in milliseconds: \")\n",
    "            set_retention(topic, retention)\n",
    "        elif choice == \"7\":\n",
    "            topic = input(\"Enter topic name: \")\n",
    "            describe_topic(topic)\n",
    "        elif choice == \"8\":\n",
    "            topic = input(\"Enter topic name to consume messages: \")\n",
    "            group_id = input(\"Enter consumer group ID (default: 'test-consumer-group'): \") or \"test-consumer-group\"\n",
    "            consume_messages(topic, group_id)\n",
    "        elif choice == \"9\":\n",
    "            print(\"Exiting.\")\n",
    "            break\n",
    "        else:\n",
    "            print(\"Invalid option. Try again.\")\n"
   ]
  }
 ],
 "metadata": {
  "kernelspec": {
   "display_name": "Python 3",
   "language": "python",
   "name": "python3"
  },
  "language_info": {
   "codemirror_mode": {
    "name": "ipython",
    "version": 3
   },
   "file_extension": ".py",
   "mimetype": "text/x-python",
   "name": "python",
   "nbconvert_exporter": "python",
   "pygments_lexer": "ipython3",
   "version": "3.12.7"
  }
 },
 "nbformat": 4,
 "nbformat_minor": 2
}
